{
 "cells": [
  {
   "cell_type": "code",
   "execution_count": 1,
   "id": "417039da-2522-4a43-87f6-1c5e8500ed57",
   "metadata": {},
   "outputs": [
    {
     "name": "stdout",
     "output_type": "stream",
     "text": [
      "Note: you may need to restart the kernel to use updated packages.Requirement already satisfied: nltk in c:\\programdata\\anaconda3\\lib\\site-packages (3.8.1)\n",
      "Requirement already satisfied: click in c:\\programdata\\anaconda3\\lib\\site-packages (from nltk) (8.1.7)\n",
      "Requirement already satisfied: joblib in c:\\programdata\\anaconda3\\lib\\site-packages (from nltk) (1.4.2)\n",
      "Requirement already satisfied: regex>=2021.8.3 in c:\\programdata\\anaconda3\\lib\\site-packages (from nltk) (2023.10.3)\n",
      "Requirement already satisfied: tqdm in c:\\programdata\\anaconda3\\lib\\site-packages (from nltk) (4.66.4)\n",
      "Requirement already satisfied: colorama in c:\\programdata\\anaconda3\\lib\\site-packages (from click->nltk) (0.4.6)\n",
      "\n"
     ]
    }
   ],
   "source": [
    "pip install nltk"
   ]
  },
  {
   "cell_type": "code",
   "execution_count": 1,
   "id": "98795dd8-43ba-41db-bed5-8ecdcf472eaa",
   "metadata": {},
   "outputs": [
    {
     "name": "stderr",
     "output_type": "stream",
     "text": [
      "[nltk_data] Downloading package vader_lexicon to\n",
      "[nltk_data]     C:\\Users\\Schroedinger\\AppData\\Roaming\\nltk_data...\n"
     ]
    },
    {
     "data": {
      "text/plain": [
       "True"
      ]
     },
     "execution_count": 1,
     "metadata": {},
     "output_type": "execute_result"
    }
   ],
   "source": [
    "import pandas as pd\n",
    "import nltk\n",
    "nltk.download(\"vader_lexicon\")"
   ]
  },
  {
   "cell_type": "code",
   "execution_count": 3,
   "id": "66124d44-deb4-44e4-9bf3-89635aaae826",
   "metadata": {},
   "outputs": [
    {
     "data": {
      "text/html": [
       "<div>\n",
       "<style scoped>\n",
       "    .dataframe tbody tr th:only-of-type {\n",
       "        vertical-align: middle;\n",
       "    }\n",
       "\n",
       "    .dataframe tbody tr th {\n",
       "        vertical-align: top;\n",
       "    }\n",
       "\n",
       "    .dataframe thead th {\n",
       "        text-align: right;\n",
       "    }\n",
       "</style>\n",
       "<table border=\"1\" class=\"dataframe\">\n",
       "  <thead>\n",
       "    <tr style=\"text-align: right;\">\n",
       "      <th></th>\n",
       "      <th>verification_status</th>\n",
       "      <th>cleaned_reviews</th>\n",
       "    </tr>\n",
       "  </thead>\n",
       "  <tbody>\n",
       "    <tr>\n",
       "      <th>0</th>\n",
       "      <td>Trip Verified</td>\n",
       "      <td>the seats were excellent with a feel of much m...</td>\n",
       "    </tr>\n",
       "    <tr>\n",
       "      <th>1</th>\n",
       "      <td>Trip Verified</td>\n",
       "      <td>after the nightmare of getting through triple ...</td>\n",
       "    </tr>\n",
       "    <tr>\n",
       "      <th>2</th>\n",
       "      <td>Trip Verified</td>\n",
       "      <td>prior to boarding a gate agent seemed to pick ...</td>\n",
       "    </tr>\n",
       "    <tr>\n",
       "      <th>3</th>\n",
       "      <td>Trip Verified</td>\n",
       "      <td>i flew from amsterdam to las vegas with a layo...</td>\n",
       "    </tr>\n",
       "    <tr>\n",
       "      <th>4</th>\n",
       "      <td>Trip Verified</td>\n",
       "      <td>first the good news the club suites are such a...</td>\n",
       "    </tr>\n",
       "    <tr>\n",
       "      <th>...</th>\n",
       "      <td>...</td>\n",
       "      <td>...</td>\n",
       "    </tr>\n",
       "    <tr>\n",
       "      <th>995</th>\n",
       "      <td>Trip Verified</td>\n",
       "      <td>sydney to london via singapore with british ai...</td>\n",
       "    </tr>\n",
       "    <tr>\n",
       "      <th>996</th>\n",
       "      <td>Not Verified</td>\n",
       "      <td>london to johannesburg british airways is one ...</td>\n",
       "    </tr>\n",
       "    <tr>\n",
       "      <th>997</th>\n",
       "      <td>Trip Verified</td>\n",
       "      <td>i have to say travelling in club europe is a w...</td>\n",
       "    </tr>\n",
       "    <tr>\n",
       "      <th>998</th>\n",
       "      <td>Not Verified</td>\n",
       "      <td>i had a stress free journey with my 8 yr old a...</td>\n",
       "    </tr>\n",
       "    <tr>\n",
       "      <th>999</th>\n",
       "      <td>Trip Verified</td>\n",
       "      <td>edinburgh to kuala lumpur via london i have ju...</td>\n",
       "    </tr>\n",
       "  </tbody>\n",
       "</table>\n",
       "<p>1000 rows × 2 columns</p>\n",
       "</div>"
      ],
      "text/plain": [
       "    verification_status                                    cleaned_reviews\n",
       "0         Trip Verified  the seats were excellent with a feel of much m...\n",
       "1         Trip Verified  after the nightmare of getting through triple ...\n",
       "2         Trip Verified  prior to boarding a gate agent seemed to pick ...\n",
       "3         Trip Verified  i flew from amsterdam to las vegas with a layo...\n",
       "4         Trip Verified  first the good news the club suites are such a...\n",
       "..                  ...                                                ...\n",
       "995       Trip Verified  sydney to london via singapore with british ai...\n",
       "996        Not Verified  london to johannesburg british airways is one ...\n",
       "997       Trip Verified  i have to say travelling in club europe is a w...\n",
       "998        Not Verified  i had a stress free journey with my 8 yr old a...\n",
       "999       Trip Verified  edinburgh to kuala lumpur via london i have ju...\n",
       "\n",
       "[1000 rows x 2 columns]"
      ]
     },
     "execution_count": 3,
     "metadata": {},
     "output_type": "execute_result"
    }
   ],
   "source": [
    "df = pd.read_csv('C:/Users/Schroedinger/Documents/BA jobsim/BA_cleaned_reviews.csv')\n",
    "df"
   ]
  },
  {
   "cell_type": "code",
   "execution_count": 7,
   "id": "36cd4d72-a1b4-4305-aa97-167a6a5d0b14",
   "metadata": {},
   "outputs": [
    {
     "data": {
      "text/html": [
       "<div>\n",
       "<style scoped>\n",
       "    .dataframe tbody tr th:only-of-type {\n",
       "        vertical-align: middle;\n",
       "    }\n",
       "\n",
       "    .dataframe tbody tr th {\n",
       "        vertical-align: top;\n",
       "    }\n",
       "\n",
       "    .dataframe thead th {\n",
       "        text-align: right;\n",
       "    }\n",
       "</style>\n",
       "<table border=\"1\" class=\"dataframe\">\n",
       "  <thead>\n",
       "    <tr style=\"text-align: right;\">\n",
       "      <th></th>\n",
       "      <th>verification_status</th>\n",
       "      <th>cleaned_reviews</th>\n",
       "    </tr>\n",
       "    <tr>\n",
       "      <th>sn</th>\n",
       "      <th></th>\n",
       "      <th></th>\n",
       "    </tr>\n",
       "  </thead>\n",
       "  <tbody>\n",
       "    <tr>\n",
       "      <th>1</th>\n",
       "      <td>Trip Verified</td>\n",
       "      <td>the seats were excellent with a feel of much m...</td>\n",
       "    </tr>\n",
       "    <tr>\n",
       "      <th>2</th>\n",
       "      <td>Trip Verified</td>\n",
       "      <td>after the nightmare of getting through triple ...</td>\n",
       "    </tr>\n",
       "    <tr>\n",
       "      <th>3</th>\n",
       "      <td>Trip Verified</td>\n",
       "      <td>prior to boarding a gate agent seemed to pick ...</td>\n",
       "    </tr>\n",
       "    <tr>\n",
       "      <th>4</th>\n",
       "      <td>Trip Verified</td>\n",
       "      <td>i flew from amsterdam to las vegas with a layo...</td>\n",
       "    </tr>\n",
       "    <tr>\n",
       "      <th>5</th>\n",
       "      <td>Trip Verified</td>\n",
       "      <td>first the good news the club suites are such a...</td>\n",
       "    </tr>\n",
       "  </tbody>\n",
       "</table>\n",
       "</div>"
      ],
      "text/plain": [
       "   verification_status                                    cleaned_reviews\n",
       "sn                                                                       \n",
       "1        Trip Verified  the seats were excellent with a feel of much m...\n",
       "2        Trip Verified  after the nightmare of getting through triple ...\n",
       "3        Trip Verified  prior to boarding a gate agent seemed to pick ...\n",
       "4        Trip Verified  i flew from amsterdam to las vegas with a layo...\n",
       "5        Trip Verified  first the good news the club suites are such a..."
      ]
     },
     "execution_count": 7,
     "metadata": {},
     "output_type": "execute_result"
    }
   ],
   "source": [
    "df.index.name = 'sn'\n",
    "df.index = df.index + 1\n",
    "df.head()"
   ]
  },
  {
   "cell_type": "code",
   "execution_count": null,
   "id": "2b21396f-4c41-4c3b-9d24-9d2f51e89a7d",
   "metadata": {},
   "outputs": [],
   "source": [
    "from nltk.sentiment import SentimentIntensityAnalyzer\n",
    "from tqdm.notebook import tqdm\n",
    "\n",
    "sia = SentimentIntensityAnalyzer()"
   ]
  },
  {
   "cell_type": "code",
   "execution_count": 13,
   "id": "1348a129-3a7a-4e2b-befc-ee9d36b5dec9",
   "metadata": {},
   "outputs": [
    {
     "data": {
      "text/plain": [
       "Index(['verification_status', 'cleaned_reviews'], dtype='object')"
      ]
     },
     "execution_count": 13,
     "metadata": {},
     "output_type": "execute_result"
    }
   ],
   "source": [
    "df.columns"
   ]
  },
  {
   "cell_type": "code",
   "execution_count": 17,
   "id": "82dab72f-ab15-4fdd-8859-d9269fda495f",
   "metadata": {},
   "outputs": [],
   "source": [
    "df['serial_no'] = range(1, len(df) + 1)"
   ]
  },
  {
   "cell_type": "code",
   "execution_count": 21,
   "id": "19ccf23d-cbc0-47b2-b0c8-911eace1e3f9",
   "metadata": {},
   "outputs": [
    {
     "data": {
      "text/html": [
       "<div>\n",
       "<style scoped>\n",
       "    .dataframe tbody tr th:only-of-type {\n",
       "        vertical-align: middle;\n",
       "    }\n",
       "\n",
       "    .dataframe tbody tr th {\n",
       "        vertical-align: top;\n",
       "    }\n",
       "\n",
       "    .dataframe thead th {\n",
       "        text-align: right;\n",
       "    }\n",
       "</style>\n",
       "<table border=\"1\" class=\"dataframe\">\n",
       "  <thead>\n",
       "    <tr style=\"text-align: right;\">\n",
       "      <th></th>\n",
       "      <th>verification_status</th>\n",
       "      <th>cleaned_reviews</th>\n",
       "      <th>serial_no</th>\n",
       "    </tr>\n",
       "    <tr>\n",
       "      <th>sn</th>\n",
       "      <th></th>\n",
       "      <th></th>\n",
       "      <th></th>\n",
       "    </tr>\n",
       "  </thead>\n",
       "  <tbody>\n",
       "    <tr>\n",
       "      <th>1</th>\n",
       "      <td>Trip Verified</td>\n",
       "      <td>the seats were excellent with a feel of much m...</td>\n",
       "      <td>1</td>\n",
       "    </tr>\n",
       "    <tr>\n",
       "      <th>2</th>\n",
       "      <td>Trip Verified</td>\n",
       "      <td>after the nightmare of getting through triple ...</td>\n",
       "      <td>2</td>\n",
       "    </tr>\n",
       "    <tr>\n",
       "      <th>3</th>\n",
       "      <td>Trip Verified</td>\n",
       "      <td>prior to boarding a gate agent seemed to pick ...</td>\n",
       "      <td>3</td>\n",
       "    </tr>\n",
       "    <tr>\n",
       "      <th>4</th>\n",
       "      <td>Trip Verified</td>\n",
       "      <td>i flew from amsterdam to las vegas with a layo...</td>\n",
       "      <td>4</td>\n",
       "    </tr>\n",
       "    <tr>\n",
       "      <th>5</th>\n",
       "      <td>Trip Verified</td>\n",
       "      <td>first the good news the club suites are such a...</td>\n",
       "      <td>5</td>\n",
       "    </tr>\n",
       "  </tbody>\n",
       "</table>\n",
       "</div>"
      ],
      "text/plain": [
       "   verification_status                                    cleaned_reviews  \\\n",
       "sn                                                                          \n",
       "1        Trip Verified  the seats were excellent with a feel of much m...   \n",
       "2        Trip Verified  after the nightmare of getting through triple ...   \n",
       "3        Trip Verified  prior to boarding a gate agent seemed to pick ...   \n",
       "4        Trip Verified  i flew from amsterdam to las vegas with a layo...   \n",
       "5        Trip Verified  first the good news the club suites are such a...   \n",
       "\n",
       "    serial_no  \n",
       "sn             \n",
       "1           1  \n",
       "2           2  \n",
       "3           3  \n",
       "4           4  \n",
       "5           5  "
      ]
     },
     "execution_count": 21,
     "metadata": {},
     "output_type": "execute_result"
    }
   ],
   "source": [
    "df.head()"
   ]
  },
  {
   "cell_type": "code",
   "execution_count": 25,
   "id": "1afb36ec-a4bf-4f6b-b5f9-ca4bb996e570",
   "metadata": {},
   "outputs": [
    {
     "data": {
      "text/html": [
       "<div>\n",
       "<style scoped>\n",
       "    .dataframe tbody tr th:only-of-type {\n",
       "        vertical-align: middle;\n",
       "    }\n",
       "\n",
       "    .dataframe tbody tr th {\n",
       "        vertical-align: top;\n",
       "    }\n",
       "\n",
       "    .dataframe thead th {\n",
       "        text-align: right;\n",
       "    }\n",
       "</style>\n",
       "<table border=\"1\" class=\"dataframe\">\n",
       "  <thead>\n",
       "    <tr style=\"text-align: right;\">\n",
       "      <th></th>\n",
       "      <th>serial_no</th>\n",
       "      <th>verification_status</th>\n",
       "      <th>cleaned_reviews</th>\n",
       "    </tr>\n",
       "    <tr>\n",
       "      <th>sn</th>\n",
       "      <th></th>\n",
       "      <th></th>\n",
       "      <th></th>\n",
       "    </tr>\n",
       "  </thead>\n",
       "  <tbody>\n",
       "    <tr>\n",
       "      <th>1</th>\n",
       "      <td>1</td>\n",
       "      <td>Trip Verified</td>\n",
       "      <td>the seats were excellent with a feel of much m...</td>\n",
       "    </tr>\n",
       "    <tr>\n",
       "      <th>2</th>\n",
       "      <td>2</td>\n",
       "      <td>Trip Verified</td>\n",
       "      <td>after the nightmare of getting through triple ...</td>\n",
       "    </tr>\n",
       "    <tr>\n",
       "      <th>3</th>\n",
       "      <td>3</td>\n",
       "      <td>Trip Verified</td>\n",
       "      <td>prior to boarding a gate agent seemed to pick ...</td>\n",
       "    </tr>\n",
       "    <tr>\n",
       "      <th>4</th>\n",
       "      <td>4</td>\n",
       "      <td>Trip Verified</td>\n",
       "      <td>i flew from amsterdam to las vegas with a layo...</td>\n",
       "    </tr>\n",
       "    <tr>\n",
       "      <th>5</th>\n",
       "      <td>5</td>\n",
       "      <td>Trip Verified</td>\n",
       "      <td>first the good news the club suites are such a...</td>\n",
       "    </tr>\n",
       "  </tbody>\n",
       "</table>\n",
       "</div>"
      ],
      "text/plain": [
       "    serial_no verification_status  \\\n",
       "sn                                  \n",
       "1           1       Trip Verified   \n",
       "2           2       Trip Verified   \n",
       "3           3       Trip Verified   \n",
       "4           4       Trip Verified   \n",
       "5           5       Trip Verified   \n",
       "\n",
       "                                      cleaned_reviews  \n",
       "sn                                                     \n",
       "1   the seats were excellent with a feel of much m...  \n",
       "2   after the nightmare of getting through triple ...  \n",
       "3   prior to boarding a gate agent seemed to pick ...  \n",
       "4   i flew from amsterdam to las vegas with a layo...  \n",
       "5   first the good news the club suites are such a...  "
      ]
     },
     "execution_count": 25,
     "metadata": {},
     "output_type": "execute_result"
    }
   ],
   "source": [
    "cols = df.columns.tolist()\n",
    "cols.pop(2)\n",
    "cols.insert(0, 'serial_no')\n",
    "df = df[cols]\n",
    "df.head()"
   ]
  },
  {
   "cell_type": "code",
   "execution_count": 29,
   "id": "b7cb382f-c1cf-447d-a443-81ec453e2f91",
   "metadata": {
    "scrolled": true
   },
   "outputs": [
    {
     "data": {
      "application/vnd.jupyter.widget-view+json": {
       "model_id": "40bed7ee2dc8425e86b54755839f9ed7",
       "version_major": 2,
       "version_minor": 0
      },
      "text/plain": [
       "  0%|          | 0/1000 [00:00<?, ?it/s]"
      ]
     },
     "metadata": {},
     "output_type": "display_data"
    }
   ],
   "source": [
    "result = {}\n",
    "for i, row in tqdm(df.iterrows(), total=len(df)):\n",
    "    text = row['cleaned_reviews']\n",
    "    sn = row['serial_no']\n",
    "    result[sn] = sia.polarity_scores(text)"
   ]
  },
  {
   "cell_type": "code",
   "execution_count": 33,
   "id": "d7ada11b-5cba-4a6b-a0ab-36a721cc9ef0",
   "metadata": {},
   "outputs": [],
   "source": [
    "vadres = pd.DataFrame(result).T\n",
    "vadres = vadres.reset_index().rename(columns={'index':'serial_no'})\n",
    "vadres = vadres.merge(df, how='left')"
   ]
  },
  {
   "cell_type": "code",
   "execution_count": 35,
   "id": "805be9bb-40eb-4b25-b4dc-d715dfd851ff",
   "metadata": {},
   "outputs": [
    {
     "data": {
      "text/html": [
       "<div>\n",
       "<style scoped>\n",
       "    .dataframe tbody tr th:only-of-type {\n",
       "        vertical-align: middle;\n",
       "    }\n",
       "\n",
       "    .dataframe tbody tr th {\n",
       "        vertical-align: top;\n",
       "    }\n",
       "\n",
       "    .dataframe thead th {\n",
       "        text-align: right;\n",
       "    }\n",
       "</style>\n",
       "<table border=\"1\" class=\"dataframe\">\n",
       "  <thead>\n",
       "    <tr style=\"text-align: right;\">\n",
       "      <th></th>\n",
       "      <th>serial_no</th>\n",
       "      <th>neg</th>\n",
       "      <th>neu</th>\n",
       "      <th>pos</th>\n",
       "      <th>compound</th>\n",
       "      <th>verification_status</th>\n",
       "      <th>cleaned_reviews</th>\n",
       "    </tr>\n",
       "  </thead>\n",
       "  <tbody>\n",
       "    <tr>\n",
       "      <th>0</th>\n",
       "      <td>1</td>\n",
       "      <td>0.030</td>\n",
       "      <td>0.878</td>\n",
       "      <td>0.092</td>\n",
       "      <td>0.6682</td>\n",
       "      <td>Trip Verified</td>\n",
       "      <td>the seats were excellent with a feel of much m...</td>\n",
       "    </tr>\n",
       "    <tr>\n",
       "      <th>1</th>\n",
       "      <td>2</td>\n",
       "      <td>0.070</td>\n",
       "      <td>0.751</td>\n",
       "      <td>0.179</td>\n",
       "      <td>0.9428</td>\n",
       "      <td>Trip Verified</td>\n",
       "      <td>after the nightmare of getting through triple ...</td>\n",
       "    </tr>\n",
       "    <tr>\n",
       "      <th>2</th>\n",
       "      <td>3</td>\n",
       "      <td>0.082</td>\n",
       "      <td>0.885</td>\n",
       "      <td>0.033</td>\n",
       "      <td>-0.9026</td>\n",
       "      <td>Trip Verified</td>\n",
       "      <td>prior to boarding a gate agent seemed to pick ...</td>\n",
       "    </tr>\n",
       "    <tr>\n",
       "      <th>3</th>\n",
       "      <td>4</td>\n",
       "      <td>0.049</td>\n",
       "      <td>0.927</td>\n",
       "      <td>0.024</td>\n",
       "      <td>-0.8095</td>\n",
       "      <td>Trip Verified</td>\n",
       "      <td>i flew from amsterdam to las vegas with a layo...</td>\n",
       "    </tr>\n",
       "    <tr>\n",
       "      <th>4</th>\n",
       "      <td>5</td>\n",
       "      <td>0.046</td>\n",
       "      <td>0.786</td>\n",
       "      <td>0.168</td>\n",
       "      <td>0.9437</td>\n",
       "      <td>Trip Verified</td>\n",
       "      <td>first the good news the club suites are such a...</td>\n",
       "    </tr>\n",
       "    <tr>\n",
       "      <th>...</th>\n",
       "      <td>...</td>\n",
       "      <td>...</td>\n",
       "      <td>...</td>\n",
       "      <td>...</td>\n",
       "      <td>...</td>\n",
       "      <td>...</td>\n",
       "      <td>...</td>\n",
       "    </tr>\n",
       "    <tr>\n",
       "      <th>995</th>\n",
       "      <td>996</td>\n",
       "      <td>0.045</td>\n",
       "      <td>0.856</td>\n",
       "      <td>0.099</td>\n",
       "      <td>0.9046</td>\n",
       "      <td>Trip Verified</td>\n",
       "      <td>sydney to london via singapore with british ai...</td>\n",
       "    </tr>\n",
       "    <tr>\n",
       "      <th>996</th>\n",
       "      <td>997</td>\n",
       "      <td>0.085</td>\n",
       "      <td>0.797</td>\n",
       "      <td>0.118</td>\n",
       "      <td>0.9443</td>\n",
       "      <td>Not Verified</td>\n",
       "      <td>london to johannesburg british airways is one ...</td>\n",
       "    </tr>\n",
       "    <tr>\n",
       "      <th>997</th>\n",
       "      <td>998</td>\n",
       "      <td>0.125</td>\n",
       "      <td>0.813</td>\n",
       "      <td>0.062</td>\n",
       "      <td>-0.7357</td>\n",
       "      <td>Trip Verified</td>\n",
       "      <td>i have to say travelling in club europe is a w...</td>\n",
       "    </tr>\n",
       "    <tr>\n",
       "      <th>998</th>\n",
       "      <td>999</td>\n",
       "      <td>0.035</td>\n",
       "      <td>0.783</td>\n",
       "      <td>0.182</td>\n",
       "      <td>0.9824</td>\n",
       "      <td>Not Verified</td>\n",
       "      <td>i had a stress free journey with my 8 yr old a...</td>\n",
       "    </tr>\n",
       "    <tr>\n",
       "      <th>999</th>\n",
       "      <td>1000</td>\n",
       "      <td>0.000</td>\n",
       "      <td>0.805</td>\n",
       "      <td>0.195</td>\n",
       "      <td>0.9580</td>\n",
       "      <td>Trip Verified</td>\n",
       "      <td>edinburgh to kuala lumpur via london i have ju...</td>\n",
       "    </tr>\n",
       "  </tbody>\n",
       "</table>\n",
       "<p>1000 rows × 7 columns</p>\n",
       "</div>"
      ],
      "text/plain": [
       "     serial_no    neg    neu    pos  compound verification_status  \\\n",
       "0            1  0.030  0.878  0.092    0.6682       Trip Verified   \n",
       "1            2  0.070  0.751  0.179    0.9428       Trip Verified   \n",
       "2            3  0.082  0.885  0.033   -0.9026       Trip Verified   \n",
       "3            4  0.049  0.927  0.024   -0.8095       Trip Verified   \n",
       "4            5  0.046  0.786  0.168    0.9437       Trip Verified   \n",
       "..         ...    ...    ...    ...       ...                 ...   \n",
       "995        996  0.045  0.856  0.099    0.9046       Trip Verified   \n",
       "996        997  0.085  0.797  0.118    0.9443        Not Verified   \n",
       "997        998  0.125  0.813  0.062   -0.7357       Trip Verified   \n",
       "998        999  0.035  0.783  0.182    0.9824        Not Verified   \n",
       "999       1000  0.000  0.805  0.195    0.9580       Trip Verified   \n",
       "\n",
       "                                       cleaned_reviews  \n",
       "0    the seats were excellent with a feel of much m...  \n",
       "1    after the nightmare of getting through triple ...  \n",
       "2    prior to boarding a gate agent seemed to pick ...  \n",
       "3    i flew from amsterdam to las vegas with a layo...  \n",
       "4    first the good news the club suites are such a...  \n",
       "..                                                 ...  \n",
       "995  sydney to london via singapore with british ai...  \n",
       "996  london to johannesburg british airways is one ...  \n",
       "997  i have to say travelling in club europe is a w...  \n",
       "998  i had a stress free journey with my 8 yr old a...  \n",
       "999  edinburgh to kuala lumpur via london i have ju...  \n",
       "\n",
       "[1000 rows x 7 columns]"
      ]
     },
     "execution_count": 35,
     "metadata": {},
     "output_type": "execute_result"
    }
   ],
   "source": [
    "vadres"
   ]
  },
  {
   "cell_type": "code",
   "execution_count": 37,
   "id": "2fa5de7c-e14a-4c84-a0e3-0f48f735266a",
   "metadata": {},
   "outputs": [
    {
     "data": {
      "text/html": [
       "<div>\n",
       "<style scoped>\n",
       "    .dataframe tbody tr th:only-of-type {\n",
       "        vertical-align: middle;\n",
       "    }\n",
       "\n",
       "    .dataframe tbody tr th {\n",
       "        vertical-align: top;\n",
       "    }\n",
       "\n",
       "    .dataframe thead th {\n",
       "        text-align: right;\n",
       "    }\n",
       "</style>\n",
       "<table border=\"1\" class=\"dataframe\">\n",
       "  <thead>\n",
       "    <tr style=\"text-align: right;\">\n",
       "      <th></th>\n",
       "      <th>serial_no</th>\n",
       "      <th>neg</th>\n",
       "      <th>neu</th>\n",
       "      <th>pos</th>\n",
       "      <th>compound</th>\n",
       "      <th>verification_status</th>\n",
       "      <th>cleaned_reviews</th>\n",
       "      <th>sen_label</th>\n",
       "    </tr>\n",
       "  </thead>\n",
       "  <tbody>\n",
       "    <tr>\n",
       "      <th>0</th>\n",
       "      <td>1</td>\n",
       "      <td>0.030</td>\n",
       "      <td>0.878</td>\n",
       "      <td>0.092</td>\n",
       "      <td>0.6682</td>\n",
       "      <td>Trip Verified</td>\n",
       "      <td>the seats were excellent with a feel of much m...</td>\n",
       "      <td>positive</td>\n",
       "    </tr>\n",
       "    <tr>\n",
       "      <th>1</th>\n",
       "      <td>2</td>\n",
       "      <td>0.070</td>\n",
       "      <td>0.751</td>\n",
       "      <td>0.179</td>\n",
       "      <td>0.9428</td>\n",
       "      <td>Trip Verified</td>\n",
       "      <td>after the nightmare of getting through triple ...</td>\n",
       "      <td>positive</td>\n",
       "    </tr>\n",
       "    <tr>\n",
       "      <th>2</th>\n",
       "      <td>3</td>\n",
       "      <td>0.082</td>\n",
       "      <td>0.885</td>\n",
       "      <td>0.033</td>\n",
       "      <td>-0.9026</td>\n",
       "      <td>Trip Verified</td>\n",
       "      <td>prior to boarding a gate agent seemed to pick ...</td>\n",
       "      <td>negative</td>\n",
       "    </tr>\n",
       "    <tr>\n",
       "      <th>3</th>\n",
       "      <td>4</td>\n",
       "      <td>0.049</td>\n",
       "      <td>0.927</td>\n",
       "      <td>0.024</td>\n",
       "      <td>-0.8095</td>\n",
       "      <td>Trip Verified</td>\n",
       "      <td>i flew from amsterdam to las vegas with a layo...</td>\n",
       "      <td>negative</td>\n",
       "    </tr>\n",
       "    <tr>\n",
       "      <th>4</th>\n",
       "      <td>5</td>\n",
       "      <td>0.046</td>\n",
       "      <td>0.786</td>\n",
       "      <td>0.168</td>\n",
       "      <td>0.9437</td>\n",
       "      <td>Trip Verified</td>\n",
       "      <td>first the good news the club suites are such a...</td>\n",
       "      <td>positive</td>\n",
       "    </tr>\n",
       "  </tbody>\n",
       "</table>\n",
       "</div>"
      ],
      "text/plain": [
       "   serial_no    neg    neu    pos  compound verification_status  \\\n",
       "0          1  0.030  0.878  0.092    0.6682       Trip Verified   \n",
       "1          2  0.070  0.751  0.179    0.9428       Trip Verified   \n",
       "2          3  0.082  0.885  0.033   -0.9026       Trip Verified   \n",
       "3          4  0.049  0.927  0.024   -0.8095       Trip Verified   \n",
       "4          5  0.046  0.786  0.168    0.9437       Trip Verified   \n",
       "\n",
       "                                     cleaned_reviews sen_label  \n",
       "0  the seats were excellent with a feel of much m...  positive  \n",
       "1  after the nightmare of getting through triple ...  positive  \n",
       "2  prior to boarding a gate agent seemed to pick ...  negative  \n",
       "3  i flew from amsterdam to las vegas with a layo...  negative  \n",
       "4  first the good news the club suites are such a...  positive  "
      ]
     },
     "execution_count": 37,
     "metadata": {},
     "output_type": "execute_result"
    }
   ],
   "source": [
    "def get_sentiment(row):\n",
    "    if row['compound'] >= 0.05:\n",
    "        return 'positive'\n",
    "    elif row['compound'] <= -0.05:\n",
    "        return 'negative'\n",
    "    else:\n",
    "        return 'neutral'\n",
    "\n",
    "\n",
    "vadres['sen_label'] = vadres.apply(get_sentiment, axis=1)\n",
    "\n",
    "vadres.head()"
   ]
  },
  {
   "cell_type": "code",
   "execution_count": 43,
   "id": "b961545d-7d78-4d85-8edc-6705498c08cf",
   "metadata": {},
   "outputs": [
    {
     "name": "stdout",
     "output_type": "stream",
     "text": [
      "sen_label            negative  neutral  positive\n",
      "verification_status                             \n",
      "Not Verified              143        0       116\n",
      "Trip Verified             376       19       346\n"
     ]
    }
   ],
   "source": [
    "sentiment_distribution = vadres.groupby(['verification_status', 'sen_label']).size().unstack(fill_value=0)\n",
    "\n",
    "print(sentiment_distribution)"
   ]
  },
  {
   "cell_type": "code",
   "execution_count": 47,
   "id": "bdca1ac8-cdc6-4529-9164-1f5a3e7b8711",
   "metadata": {},
   "outputs": [
    {
     "name": "stdout",
     "output_type": "stream",
     "text": [
      "sen_label             negative   neutral   positive\n",
      "verification_status                                \n",
      "Not Verified         55.212355  0.000000  44.787645\n",
      "Trip Verified        50.742240  2.564103  46.693657\n"
     ]
    }
   ],
   "source": [
    "sentiment_percentage = sentiment_distribution.div(sentiment_distribution.sum(axis=1), axis=0) * 100\n",
    "print(sentiment_percentage)"
   ]
  },
  {
   "cell_type": "code",
   "execution_count": 69,
   "id": "f6598e26-0c56-4ba2-906e-0084a8bfe7a0",
   "metadata": {},
   "outputs": [
    {
     "data": {
      "image/png": "[encoded data removed]",
      "text/plain": [
       "<Figure size 1000x600 with 1 Axes>"
      ]
     },
     "metadata": {},
     "output_type": "display_data"
    }
   ],
   "source": [
    "import matplotlib.pyplot as plt\n",
    "\n",
    "sentiment_distribution.plot(kind='bar', stacked=True, figsize=(10,6))\n",
    "\n",
    "plt.title('Sentiment Distribution by Verification Status')\n",
    "plt.xlabel('Verification Status')\n",
    "plt.ylabel('Number of reviews')\n",
    "plt.legend(title='Sentiment')\n",
    "plt.xticks(rotation=0)\n",
    "plt.tight_layout()\n",
    "plt.savefig(f\"{output_dir}/Stacked Sentiment Chart\")\n",
    "\n",
    "plt.show()"
   ]
  },
  {
   "cell_type": "code",
   "execution_count": 59,
   "id": "0416679e-8866-45fc-8a45-82349094f2c5",
   "metadata": {},
   "outputs": [
    {
     "name": "stdout",
     "output_type": "stream",
     "text": [
      "Verified counts:\n",
      " sen_label\n",
      "negative    376\n",
      "positive    346\n",
      "neutral      19\n",
      "Name: count, dtype: int64\n",
      "Unverified counts\n",
      " sen_label\n",
      "negative    143\n",
      "positive    116\n",
      "Name: count, dtype: int64\n"
     ]
    }
   ],
   "source": [
    "ver_data = vadres[vadres['verification_status'] == 'Trip Verified']\n",
    "unver_data = vadres[vadres['verification_status'] == 'Not Verified']\n",
    "\n",
    "#aggregate sentiment counts for verified and unverified trips\n",
    "ver_counts = ver_data['sen_label'].value_counts()\n",
    "unver_counts = unver_data['sen_label'].value_counts()\n",
    "\n",
    "print(\"Verified counts:\\n\", ver_counts)\n",
    "print(\"Unverified counts\\n\", unver_counts)"
   ]
  },
  {
   "cell_type": "code",
   "execution_count": 73,
   "id": "f48fa01b-d0c7-47d9-aced-812e234dca0d",
   "metadata": {},
   "outputs": [
    {
     "data": {
      "image/png": "[encoded data removed]",
      "text/plain": [
       "<Figure size 800x600 with 1 Axes>"
      ]
     },
     "metadata": {},
     "output_type": "display_data"
    },
    {
     "data": {
      "image/png": "[encoded data removed]",
      "text/plain": [
       "<Figure size 800x600 with 1 Axes>"
      ]
     },
     "metadata": {},
     "output_type": "display_data"
    }
   ],
   "source": [
    "#Bar plot for verified trips\n",
    "plt.figure(figsize=(8,6))\n",
    "ver_counts.plot(kind='bar', color=['green', 'blue', 'red'])\n",
    "plt.title('Sentiment Distribution for Verified Trips')\n",
    "plt.xlabel('Sentiment')\n",
    "plt.ylabel('Number of Reviews')\n",
    "plt.xticks(rotation=0)\n",
    "plt.tight_layout()\n",
    "plt.savefig(f\"{output_dir}/Veriifed Trips\")\n",
    "plt.show()\n",
    "\n",
    "#Bar plot for unverified trips\n",
    "plt.figure(figsize=(8,6))\n",
    "unver_counts.plot(kind='bar', color=['green', 'blue', 'red'])\n",
    "plt.title('Sentiment Distribution for Unverified Trips')\n",
    "plt.xlabel('Sentiment')\n",
    "plt.ylabel('Number of Reviews')\n",
    "plt.xticks(rotation=0)\n",
    "plt.tight_layout()\n",
    "plt.savefig(f\"{output_dir}/Unverified Trips\")\n",
    "plt.show()"
   ]
  },
  {
   "cell_type": "code",
   "execution_count": 63,
   "id": "dad64884-b34f-4564-bb4d-90d665c2d4a8",
   "metadata": {},
   "outputs": [],
   "source": [
    "import os\n",
    "output_dir = \"sentiment charts\"\n",
    "os.makedirs(output_dir, exist_ok=True)\n",
    "\n"
   ]
  },
  {
   "cell_type": "code",
   "execution_count": null,
   "id": "d3c5fba9-e1a9-4cb4-a581-dc6b061e0c1c",
   "metadata": {},
   "outputs": [],
   "source": [
    "plt.savefig(f\"{output_dir}/{plt.title}\")"
   ]
  }
 ],
 "metadata": {
  "kernelspec": {
   "display_name": "Python 3 (ipykernel)",
   "language": "python",
   "name": "python3"
  },
  "language_info": {
   "codemirror_mode": {
    "name": "ipython",
    "version": 3
   },
   "file_extension": ".py",
   "mimetype": "text/x-python",
   "name": "python",
   "nbconvert_exporter": "python",
   "pygments_lexer": "ipython3",
   "version": "3.12.4"
  }
 },
 "nbformat": 4,
 "nbformat_minor": 5
}
